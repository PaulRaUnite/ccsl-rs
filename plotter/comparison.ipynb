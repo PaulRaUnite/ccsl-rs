{
 "cells": [
  {
   "cell_type": "code",
   "execution_count": 1,
   "metadata": {
    "pycharm": {
     "name": "#%%\n"
    }
   },
   "outputs": [],
   "source": [
    "from typing import List\n",
    "from itertools import combinations\n",
    "import numpy as np\n",
    "import dask.dataframe as dd\n",
    "from IPython.core.interactiveshell import InteractiveShell\n",
    "InteractiveShell.ast_node_interactivity = \"all\""
   ]
  },
  {
   "cell_type": "code",
   "execution_count": 2,
   "outputs": [],
   "source": [
    "import matplotlib.pyplot as plt"
   ],
   "metadata": {
    "collapsed": false,
    "pycharm": {
     "name": "#%%\n"
    }
   }
  },
  {
   "cell_type": "code",
   "execution_count": 3,
   "metadata": {
    "pycharm": {
     "name": "#%%\n"
    }
   },
   "outputs": [
    {
     "ename": "KeyError",
     "evalue": "3",
     "output_type": "error",
     "traceback": [
      "\u001B[0;31m---------------------------------------------------------------------------\u001B[0m",
      "\u001B[0;31mKeyError\u001B[0m                                  Traceback (most recent call last)",
      "Input \u001B[0;32mIn [3]\u001B[0m, in \u001B[0;36m<cell line: 2>\u001B[0;34m()\u001B[0m\n\u001B[1;32m      1\u001B[0m \u001B[38;5;28mdir\u001B[39m \u001B[38;5;241m=\u001B[39m \u001B[38;5;124m\"\u001B[39m\u001B[38;5;124m./data/circle/\u001B[39m\u001B[38;5;124m\"\u001B[39m\n\u001B[0;32m----> 2\u001B[0m real \u001B[38;5;241m=\u001B[39m \u001B[43mdd\u001B[49m\u001B[38;5;241;43m.\u001B[39;49m\u001B[43mread_parquet\u001B[49m\u001B[43m(\u001B[49m\u001B[38;5;28;43mdir\u001B[39;49m\u001B[38;5;241;43m+\u001B[39;49m\u001B[38;5;124;43m\"\u001B[39;49m\u001B[38;5;124;43mmain.parquet\u001B[39;49m\u001B[38;5;124;43m\"\u001B[39;49m\u001B[43m,\u001B[49m\u001B[43m \u001B[49m\u001B[43mcolumns\u001B[49m\u001B[38;5;241;43m=\u001B[39;49m\u001B[43m[\u001B[49m\u001B[38;5;124;43m\"\u001B[39;49m\u001B[38;5;124;43mspec\u001B[39;49m\u001B[38;5;124;43m\"\u001B[39;49m\u001B[43m,\u001B[49m\u001B[38;5;124;43m\"\u001B[39;49m\u001B[38;5;124;43mvariant\u001B[39;49m\u001B[38;5;124;43m\"\u001B[39;49m\u001B[43m,\u001B[49m\u001B[38;5;124;43m\"\u001B[39;49m\u001B[38;5;124;43mreal.tests\u001B[39;49m\u001B[38;5;124;43m\"\u001B[39;49m\u001B[43m,\u001B[49m\u001B[43m \u001B[49m\u001B[38;5;124;43m\"\u001B[39;49m\u001B[38;5;124;43mreal.downs\u001B[39;49m\u001B[38;5;124;43m\"\u001B[39;49m\u001B[43m,\u001B[49m\u001B[43m \u001B[49m\u001B[38;5;124;43m\"\u001B[39;49m\u001B[38;5;124;43msize\u001B[39;49m\u001B[38;5;124;43m\"\u001B[39;49m\u001B[43m,\u001B[49m\u001B[43m \u001B[49m\u001B[38;5;124;43m\"\u001B[39;49m\u001B[38;5;124;43mclocks\u001B[39;49m\u001B[38;5;124;43m\"\u001B[39;49m\u001B[43m]\u001B[49m\u001B[43m)\u001B[49m\n\u001B[1;32m      3\u001B[0m squished \u001B[38;5;241m=\u001B[39m dd\u001B[38;5;241m.\u001B[39mread_parquet(\u001B[38;5;28mdir\u001B[39m\u001B[38;5;241m+\u001B[39m\u001B[38;5;124m\"\u001B[39m\u001B[38;5;124msquished.parquet\u001B[39m\u001B[38;5;124m\"\u001B[39m, columns\u001B[38;5;241m=\u001B[39m[\u001B[38;5;124m\"\u001B[39m\u001B[38;5;124mspec\u001B[39m\u001B[38;5;124m\"\u001B[39m,\u001B[38;5;124m\"\u001B[39m\u001B[38;5;124mvariant\u001B[39m\u001B[38;5;124m\"\u001B[39m,\u001B[38;5;124m\"\u001B[39m\u001B[38;5;124mapprox.tests\u001B[39m\u001B[38;5;124m\"\u001B[39m, \u001B[38;5;124m\"\u001B[39m\u001B[38;5;124mapprox.downs\u001B[39m\u001B[38;5;124m\"\u001B[39m, \u001B[38;5;124m\"\u001B[39m\u001B[38;5;124mlimit.tests\u001B[39m\u001B[38;5;124m\"\u001B[39m, \u001B[38;5;124m\"\u001B[39m\u001B[38;5;124mlimit.downs\u001B[39m\u001B[38;5;124m\"\u001B[39m])\n\u001B[1;32m      4\u001B[0m opti \u001B[38;5;241m=\u001B[39m dd\u001B[38;5;241m.\u001B[39mread_parquet(\u001B[38;5;28mdir\u001B[39m\u001B[38;5;241m+\u001B[39m\u001B[38;5;124m\"\u001B[39m\u001B[38;5;124mopti/init_weights.min_front.parquet\u001B[39m\u001B[38;5;124m\"\u001B[39m, index\u001B[38;5;241m=\u001B[39m[\u001B[38;5;124m\"\u001B[39m\u001B[38;5;124mspec\u001B[39m\u001B[38;5;124m\"\u001B[39m],columns\u001B[38;5;241m=\u001B[39m[\u001B[38;5;124m\"\u001B[39m\u001B[38;5;124mvariant\u001B[39m\u001B[38;5;124m\"\u001B[39m,\u001B[38;5;124m\"\u001B[39m\u001B[38;5;124mcomb\u001B[39m\u001B[38;5;124m\"\u001B[39m, \u001B[38;5;124m\"\u001B[39m\u001B[38;5;124mreal.tests\u001B[39m\u001B[38;5;124m\"\u001B[39m, \u001B[38;5;124m\"\u001B[39m\u001B[38;5;124mreal.downs\u001B[39m\u001B[38;5;124m\"\u001B[39m])\n",
      "File \u001B[0;32m~/code/ccsl-rs/plotter/venv/lib/python3.10/site-packages/dask/dataframe/io/parquet/core.py:464\u001B[0m, in \u001B[0;36mread_parquet\u001B[0;34m(path, columns, filters, categories, index, storage_options, engine, calculate_divisions, ignore_metadata_file, metadata_task_size, split_row_groups, chunksize, aggregate_files, parquet_file_extension, **kwargs)\u001B[0m\n\u001B[1;32m    461\u001B[0m \u001B[38;5;28;01mif\u001B[39;00m index \u001B[38;5;129;01mand\u001B[39;00m \u001B[38;5;28misinstance\u001B[39m(index, \u001B[38;5;28mstr\u001B[39m):\n\u001B[1;32m    462\u001B[0m     index \u001B[38;5;241m=\u001B[39m [index]\n\u001B[0;32m--> 464\u001B[0m read_metadata_result \u001B[38;5;241m=\u001B[39m \u001B[43mengine\u001B[49m\u001B[38;5;241;43m.\u001B[39;49m\u001B[43mread_metadata\u001B[49m\u001B[43m(\u001B[49m\n\u001B[1;32m    465\u001B[0m \u001B[43m    \u001B[49m\u001B[43mfs\u001B[49m\u001B[43m,\u001B[49m\n\u001B[1;32m    466\u001B[0m \u001B[43m    \u001B[49m\u001B[43mpaths\u001B[49m\u001B[43m,\u001B[49m\n\u001B[1;32m    467\u001B[0m \u001B[43m    \u001B[49m\u001B[43mcategories\u001B[49m\u001B[38;5;241;43m=\u001B[39;49m\u001B[43mcategories\u001B[49m\u001B[43m,\u001B[49m\n\u001B[1;32m    468\u001B[0m \u001B[43m    \u001B[49m\u001B[43mindex\u001B[49m\u001B[38;5;241;43m=\u001B[39;49m\u001B[43mindex\u001B[49m\u001B[43m,\u001B[49m\n\u001B[1;32m    469\u001B[0m \u001B[43m    \u001B[49m\u001B[43mgather_statistics\u001B[49m\u001B[38;5;241;43m=\u001B[39;49m\u001B[43mcalculate_divisions\u001B[49m\u001B[43m,\u001B[49m\n\u001B[1;32m    470\u001B[0m \u001B[43m    \u001B[49m\u001B[43mfilters\u001B[49m\u001B[38;5;241;43m=\u001B[39;49m\u001B[43mfilters\u001B[49m\u001B[43m,\u001B[49m\n\u001B[1;32m    471\u001B[0m \u001B[43m    \u001B[49m\u001B[43msplit_row_groups\u001B[49m\u001B[38;5;241;43m=\u001B[39;49m\u001B[43msplit_row_groups\u001B[49m\u001B[43m,\u001B[49m\n\u001B[1;32m    472\u001B[0m \u001B[43m    \u001B[49m\u001B[43mchunksize\u001B[49m\u001B[38;5;241;43m=\u001B[39;49m\u001B[43mchunksize\u001B[49m\u001B[43m,\u001B[49m\n\u001B[1;32m    473\u001B[0m \u001B[43m    \u001B[49m\u001B[43maggregate_files\u001B[49m\u001B[38;5;241;43m=\u001B[39;49m\u001B[43maggregate_files\u001B[49m\u001B[43m,\u001B[49m\n\u001B[1;32m    474\u001B[0m \u001B[43m    \u001B[49m\u001B[43mignore_metadata_file\u001B[49m\u001B[38;5;241;43m=\u001B[39;49m\u001B[43mignore_metadata_file\u001B[49m\u001B[43m,\u001B[49m\n\u001B[1;32m    475\u001B[0m \u001B[43m    \u001B[49m\u001B[43mmetadata_task_size\u001B[49m\u001B[38;5;241;43m=\u001B[39;49m\u001B[43mmetadata_task_size\u001B[49m\u001B[43m,\u001B[49m\n\u001B[1;32m    476\u001B[0m \u001B[43m    \u001B[49m\u001B[43mparquet_file_extension\u001B[49m\u001B[38;5;241;43m=\u001B[39;49m\u001B[43mparquet_file_extension\u001B[49m\u001B[43m,\u001B[49m\n\u001B[1;32m    477\u001B[0m \u001B[43m    \u001B[49m\u001B[38;5;241;43m*\u001B[39;49m\u001B[38;5;241;43m*\u001B[39;49m\u001B[43mkwargs\u001B[49m\u001B[43m,\u001B[49m\n\u001B[1;32m    478\u001B[0m \u001B[43m\u001B[49m\u001B[43m)\u001B[49m\n\u001B[1;32m    480\u001B[0m \u001B[38;5;66;03m# In the future, we may want to give the engine the\u001B[39;00m\n\u001B[1;32m    481\u001B[0m \u001B[38;5;66;03m# option to return a dedicated element for `common_kwargs`.\u001B[39;00m\n\u001B[1;32m    482\u001B[0m \u001B[38;5;66;03m# However, to avoid breaking the API, we just embed this\u001B[39;00m\n\u001B[1;32m    483\u001B[0m \u001B[38;5;66;03m# data in the first element of `parts` for now.\u001B[39;00m\n\u001B[1;32m    484\u001B[0m \u001B[38;5;66;03m# The logic below is inteded to handle backward and forward\u001B[39;00m\n\u001B[1;32m    485\u001B[0m \u001B[38;5;66;03m# compatibility with a user-defined engine.\u001B[39;00m\n\u001B[1;32m    486\u001B[0m meta, statistics, parts, index \u001B[38;5;241m=\u001B[39m read_metadata_result[:\u001B[38;5;241m4\u001B[39m]\n",
      "File \u001B[0;32m~/code/ccsl-rs/plotter/venv/lib/python3.10/site-packages/dask/dataframe/io/parquet/fastparquet.py:836\u001B[0m, in \u001B[0;36mFastParquetEngine.read_metadata\u001B[0;34m(cls, fs, paths, categories, index, gather_statistics, filters, split_row_groups, chunksize, aggregate_files, ignore_metadata_file, metadata_task_size, parquet_file_extension, **kwargs)\u001B[0m\n\u001B[1;32m    817\u001B[0m \u001B[38;5;129m@classmethod\u001B[39m\n\u001B[1;32m    818\u001B[0m \u001B[38;5;28;01mdef\u001B[39;00m \u001B[38;5;21mread_metadata\u001B[39m(\n\u001B[1;32m    819\u001B[0m     \u001B[38;5;28mcls\u001B[39m,\n\u001B[0;32m   (...)\u001B[0m\n\u001B[1;32m    834\u001B[0m \n\u001B[1;32m    835\u001B[0m     \u001B[38;5;66;03m# Stage 1: Collect general dataset information\u001B[39;00m\n\u001B[0;32m--> 836\u001B[0m     dataset_info \u001B[38;5;241m=\u001B[39m \u001B[38;5;28;43mcls\u001B[39;49m\u001B[38;5;241;43m.\u001B[39;49m\u001B[43m_collect_dataset_info\u001B[49m\u001B[43m(\u001B[49m\n\u001B[1;32m    837\u001B[0m \u001B[43m        \u001B[49m\u001B[43mpaths\u001B[49m\u001B[43m,\u001B[49m\n\u001B[1;32m    838\u001B[0m \u001B[43m        \u001B[49m\u001B[43mfs\u001B[49m\u001B[43m,\u001B[49m\n\u001B[1;32m    839\u001B[0m \u001B[43m        \u001B[49m\u001B[43mcategories\u001B[49m\u001B[43m,\u001B[49m\n\u001B[1;32m    840\u001B[0m \u001B[43m        \u001B[49m\u001B[43mindex\u001B[49m\u001B[43m,\u001B[49m\n\u001B[1;32m    841\u001B[0m \u001B[43m        \u001B[49m\u001B[43mgather_statistics\u001B[49m\u001B[43m,\u001B[49m\n\u001B[1;32m    842\u001B[0m \u001B[43m        \u001B[49m\u001B[43mfilters\u001B[49m\u001B[43m,\u001B[49m\n\u001B[1;32m    843\u001B[0m \u001B[43m        \u001B[49m\u001B[43msplit_row_groups\u001B[49m\u001B[43m,\u001B[49m\n\u001B[1;32m    844\u001B[0m \u001B[43m        \u001B[49m\u001B[43mchunksize\u001B[49m\u001B[43m,\u001B[49m\n\u001B[1;32m    845\u001B[0m \u001B[43m        \u001B[49m\u001B[43maggregate_files\u001B[49m\u001B[43m,\u001B[49m\n\u001B[1;32m    846\u001B[0m \u001B[43m        \u001B[49m\u001B[43mignore_metadata_file\u001B[49m\u001B[43m,\u001B[49m\n\u001B[1;32m    847\u001B[0m \u001B[43m        \u001B[49m\u001B[43mmetadata_task_size\u001B[49m\u001B[43m,\u001B[49m\n\u001B[1;32m    848\u001B[0m \u001B[43m        \u001B[49m\u001B[43mparquet_file_extension\u001B[49m\u001B[43m,\u001B[49m\n\u001B[1;32m    849\u001B[0m \u001B[43m        \u001B[49m\u001B[43mkwargs\u001B[49m\u001B[43m,\u001B[49m\n\u001B[1;32m    850\u001B[0m \u001B[43m    \u001B[49m\u001B[43m)\u001B[49m\n\u001B[1;32m    852\u001B[0m     \u001B[38;5;66;03m# Stage 2: Generate output `meta`\u001B[39;00m\n\u001B[1;32m    853\u001B[0m     meta \u001B[38;5;241m=\u001B[39m \u001B[38;5;28mcls\u001B[39m\u001B[38;5;241m.\u001B[39m_create_dd_meta(dataset_info)\n",
      "File \u001B[0;32m~/code/ccsl-rs/plotter/venv/lib/python3.10/site-packages/dask/dataframe/io/parquet/fastparquet.py:468\u001B[0m, in \u001B[0;36mFastParquetEngine._collect_dataset_info\u001B[0;34m(cls, paths, fs, categories, index, gather_statistics, filters, split_row_groups, chunksize, aggregate_files, ignore_metadata_file, metadata_task_size, parquet_file_extension, kwargs)\u001B[0m\n\u001B[1;32m    464\u001B[0m \u001B[38;5;28;01melse\u001B[39;00m:\n\u001B[1;32m    465\u001B[0m     \u001B[38;5;66;03m# Rely on metadata for 0th file.\u001B[39;00m\n\u001B[1;32m    466\u001B[0m     \u001B[38;5;66;03m# Will need to pass a list of paths to read_partition\u001B[39;00m\n\u001B[1;32m    467\u001B[0m     scheme \u001B[38;5;241m=\u001B[39m get_file_scheme(fns)\n\u001B[0;32m--> 468\u001B[0m     pf \u001B[38;5;241m=\u001B[39m \u001B[43mParquetFile\u001B[49m\u001B[43m(\u001B[49m\n\u001B[1;32m    469\u001B[0m \u001B[43m        \u001B[49m\u001B[43mpaths\u001B[49m\u001B[43m[\u001B[49m\u001B[43m:\u001B[49m\u001B[38;5;241;43m1\u001B[39;49m\u001B[43m]\u001B[49m\u001B[43m,\u001B[49m\u001B[43m \u001B[49m\u001B[43mopen_with\u001B[49m\u001B[38;5;241;43m=\u001B[39;49m\u001B[43mfs\u001B[49m\u001B[38;5;241;43m.\u001B[39;49m\u001B[43mopen\u001B[49m\u001B[43m,\u001B[49m\u001B[43m \u001B[49m\u001B[43mroot\u001B[49m\u001B[38;5;241;43m=\u001B[39;49m\u001B[43mbase\u001B[49m\u001B[43m,\u001B[49m\u001B[43m \u001B[49m\u001B[38;5;241;43m*\u001B[39;49m\u001B[38;5;241;43m*\u001B[39;49m\u001B[43mdataset_kwargs\u001B[49m\n\u001B[1;32m    470\u001B[0m \u001B[43m    \u001B[49m\u001B[43m)\u001B[49m\n\u001B[1;32m    471\u001B[0m     pf\u001B[38;5;241m.\u001B[39mfile_scheme \u001B[38;5;241m=\u001B[39m scheme\n\u001B[1;32m    472\u001B[0m     pf\u001B[38;5;241m.\u001B[39mcats \u001B[38;5;241m=\u001B[39m paths_to_cats(fns, scheme)\n",
      "File \u001B[0;32m~/code/ccsl-rs/plotter/venv/lib/python3.10/site-packages/fastparquet/api.py:120\u001B[0m, in \u001B[0;36mParquetFile.__init__\u001B[0;34m(self, fn, verify, open_with, root, sep, fs, pandas_nulls)\u001B[0m\n\u001B[1;32m    118\u001B[0m \u001B[38;5;28;01mif\u001B[39;00m root \u001B[38;5;129;01mand\u001B[39;00m fs \u001B[38;5;129;01mis\u001B[39;00m \u001B[38;5;129;01mnot\u001B[39;00m \u001B[38;5;28;01mNone\u001B[39;00m:\n\u001B[1;32m    119\u001B[0m     root \u001B[38;5;241m=\u001B[39m fs\u001B[38;5;241m.\u001B[39m_strip_protocol(root)\n\u001B[0;32m--> 120\u001B[0m basepath, fmd \u001B[38;5;241m=\u001B[39m \u001B[43mmetadata_from_many\u001B[49m\u001B[43m(\u001B[49m\u001B[43mfn\u001B[49m\u001B[43m,\u001B[49m\u001B[43m \u001B[49m\u001B[43mverify_schema\u001B[49m\u001B[38;5;241;43m=\u001B[39;49m\u001B[43mverify\u001B[49m\u001B[43m,\u001B[49m\n\u001B[1;32m    121\u001B[0m \u001B[43m                                   \u001B[49m\u001B[43mopen_with\u001B[49m\u001B[38;5;241;43m=\u001B[39;49m\u001B[43mopen_with\u001B[49m\u001B[43m,\u001B[49m\u001B[43m \u001B[49m\u001B[43mroot\u001B[49m\u001B[38;5;241;43m=\u001B[39;49m\u001B[43mroot\u001B[49m\u001B[43m,\u001B[49m\n\u001B[1;32m    122\u001B[0m \u001B[43m                                   \u001B[49m\u001B[43mfs\u001B[49m\u001B[38;5;241;43m=\u001B[39;49m\u001B[43mfs\u001B[49m\u001B[43m)\u001B[49m\n\u001B[1;32m    123\u001B[0m \u001B[38;5;28mself\u001B[39m\u001B[38;5;241m.\u001B[39mfn \u001B[38;5;241m=\u001B[39m join_path(\n\u001B[1;32m    124\u001B[0m     basepath, \u001B[38;5;124m'\u001B[39m\u001B[38;5;124m_metadata\u001B[39m\u001B[38;5;124m'\u001B[39m) \u001B[38;5;28;01mif\u001B[39;00m basepath \u001B[38;5;28;01melse\u001B[39;00m \u001B[38;5;124m'\u001B[39m\u001B[38;5;124m_metadata\u001B[39m\u001B[38;5;124m'\u001B[39m\n\u001B[1;32m    125\u001B[0m \u001B[38;5;28mself\u001B[39m\u001B[38;5;241m.\u001B[39mfmd \u001B[38;5;241m=\u001B[39m fmd\n",
      "File \u001B[0;32m~/code/ccsl-rs/plotter/venv/lib/python3.10/site-packages/fastparquet/util.py:181\u001B[0m, in \u001B[0;36mmetadata_from_many\u001B[0;34m(file_list, verify_schema, open_with, root, fs)\u001B[0m\n\u001B[1;32m    178\u001B[0m \u001B[38;5;28;01melif\u001B[39;00m \u001B[38;5;28mall\u001B[39m(\u001B[38;5;129;01mnot\u001B[39;00m \u001B[38;5;28misinstance\u001B[39m(pf, api\u001B[38;5;241m.\u001B[39mParquetFile) \u001B[38;5;28;01mfor\u001B[39;00m pf \u001B[38;5;129;01min\u001B[39;00m file_list):\n\u001B[1;32m    180\u001B[0m     \u001B[38;5;28;01mif\u001B[39;00m verify_schema \u001B[38;5;129;01mor\u001B[39;00m fs \u001B[38;5;129;01mis\u001B[39;00m \u001B[38;5;28;01mNone\u001B[39;00m \u001B[38;5;129;01mor\u001B[39;00m \u001B[38;5;28mlen\u001B[39m(file_list) \u001B[38;5;241m<\u001B[39m \u001B[38;5;241m3\u001B[39m:\n\u001B[0;32m--> 181\u001B[0m         pfs \u001B[38;5;241m=\u001B[39m [api\u001B[38;5;241m.\u001B[39mParquetFile(fn, open_with\u001B[38;5;241m=\u001B[39mopen_with) \u001B[38;5;28;01mfor\u001B[39;00m fn \u001B[38;5;129;01min\u001B[39;00m file_list]\n\u001B[1;32m    182\u001B[0m     \u001B[38;5;28;01melse\u001B[39;00m:\n\u001B[1;32m    183\u001B[0m         \u001B[38;5;66;03m# activate new code path here\u001B[39;00m\n\u001B[1;32m    184\u001B[0m         f0 \u001B[38;5;241m=\u001B[39m file_list[\u001B[38;5;241m0\u001B[39m]\n",
      "File \u001B[0;32m~/code/ccsl-rs/plotter/venv/lib/python3.10/site-packages/fastparquet/util.py:181\u001B[0m, in \u001B[0;36m<listcomp>\u001B[0;34m(.0)\u001B[0m\n\u001B[1;32m    178\u001B[0m \u001B[38;5;28;01melif\u001B[39;00m \u001B[38;5;28mall\u001B[39m(\u001B[38;5;129;01mnot\u001B[39;00m \u001B[38;5;28misinstance\u001B[39m(pf, api\u001B[38;5;241m.\u001B[39mParquetFile) \u001B[38;5;28;01mfor\u001B[39;00m pf \u001B[38;5;129;01min\u001B[39;00m file_list):\n\u001B[1;32m    180\u001B[0m     \u001B[38;5;28;01mif\u001B[39;00m verify_schema \u001B[38;5;129;01mor\u001B[39;00m fs \u001B[38;5;129;01mis\u001B[39;00m \u001B[38;5;28;01mNone\u001B[39;00m \u001B[38;5;129;01mor\u001B[39;00m \u001B[38;5;28mlen\u001B[39m(file_list) \u001B[38;5;241m<\u001B[39m \u001B[38;5;241m3\u001B[39m:\n\u001B[0;32m--> 181\u001B[0m         pfs \u001B[38;5;241m=\u001B[39m [\u001B[43mapi\u001B[49m\u001B[38;5;241;43m.\u001B[39;49m\u001B[43mParquetFile\u001B[49m\u001B[43m(\u001B[49m\u001B[43mfn\u001B[49m\u001B[43m,\u001B[49m\u001B[43m \u001B[49m\u001B[43mopen_with\u001B[49m\u001B[38;5;241;43m=\u001B[39;49m\u001B[43mopen_with\u001B[49m\u001B[43m)\u001B[49m \u001B[38;5;28;01mfor\u001B[39;00m fn \u001B[38;5;129;01min\u001B[39;00m file_list]\n\u001B[1;32m    182\u001B[0m     \u001B[38;5;28;01melse\u001B[39;00m:\n\u001B[1;32m    183\u001B[0m         \u001B[38;5;66;03m# activate new code path here\u001B[39;00m\n\u001B[1;32m    184\u001B[0m         f0 \u001B[38;5;241m=\u001B[39m file_list[\u001B[38;5;241m0\u001B[39m]\n",
      "File \u001B[0;32m~/code/ccsl-rs/plotter/venv/lib/python3.10/site-packages/fastparquet/api.py:139\u001B[0m, in \u001B[0;36mParquetFile.__init__\u001B[0;34m(self, fn, verify, open_with, root, sep, fs, pandas_nulls)\u001B[0m\n\u001B[1;32m    137\u001B[0m     \u001B[38;5;28mself\u001B[39m\u001B[38;5;241m.\u001B[39mfn \u001B[38;5;241m=\u001B[39m join_path(fn)\n\u001B[1;32m    138\u001B[0m     \u001B[38;5;28;01mwith\u001B[39;00m open_with(fn, \u001B[38;5;124m'\u001B[39m\u001B[38;5;124mrb\u001B[39m\u001B[38;5;124m'\u001B[39m) \u001B[38;5;28;01mas\u001B[39;00m f:\n\u001B[0;32m--> 139\u001B[0m         \u001B[38;5;28;43mself\u001B[39;49m\u001B[38;5;241;43m.\u001B[39;49m\u001B[43m_parse_header\u001B[49m\u001B[43m(\u001B[49m\u001B[43mf\u001B[49m\u001B[43m,\u001B[49m\u001B[43m \u001B[49m\u001B[43mverify\u001B[49m\u001B[43m)\u001B[49m\n\u001B[1;32m    140\u001B[0m \u001B[38;5;28;01melif\u001B[39;00m \u001B[38;5;124m\"\u001B[39m\u001B[38;5;124m*\u001B[39m\u001B[38;5;124m\"\u001B[39m \u001B[38;5;129;01min\u001B[39;00m fn \u001B[38;5;129;01mor\u001B[39;00m fs\u001B[38;5;241m.\u001B[39misdir(fn):\n\u001B[1;32m    141\u001B[0m     fn2 \u001B[38;5;241m=\u001B[39m join_path(fn, \u001B[38;5;124m'\u001B[39m\u001B[38;5;124m_metadata\u001B[39m\u001B[38;5;124m'\u001B[39m)\n",
      "File \u001B[0;32m~/code/ccsl-rs/plotter/venv/lib/python3.10/site-packages/fastparquet/api.py:225\u001B[0m, in \u001B[0;36mParquetFile._parse_header\u001B[0;34m(self, f, verify)\u001B[0m\n\u001B[1;32m    223\u001B[0m             chunk[\u001B[38;5;241m1\u001B[39m] \u001B[38;5;241m=\u001B[39m s\u001B[38;5;241m.\u001B[39mdecode()\n\u001B[1;32m    224\u001B[0m \u001B[38;5;28mself\u001B[39m\u001B[38;5;241m.\u001B[39mfmd \u001B[38;5;241m=\u001B[39m fmd\n\u001B[0;32m--> 225\u001B[0m \u001B[38;5;28;43mself\u001B[39;49m\u001B[38;5;241;43m.\u001B[39;49m\u001B[43m_set_attrs\u001B[49m\u001B[43m(\u001B[49m\u001B[43m)\u001B[49m\n",
      "File \u001B[0;32m~/code/ccsl-rs/plotter/venv/lib/python3.10/site-packages/fastparquet/api.py:239\u001B[0m, in \u001B[0;36mParquetFile._set_attrs\u001B[0;34m(self)\u001B[0m\n\u001B[1;32m    234\u001B[0m \u001B[38;5;28mself\u001B[39m\u001B[38;5;241m.\u001B[39mselfmade \u001B[38;5;241m=\u001B[39m (\n\u001B[1;32m    235\u001B[0m     \u001B[38;5;124mb\u001B[39m\u001B[38;5;124m\"\u001B[39m\u001B[38;5;124mfastparquet\u001B[39m\u001B[38;5;124m\"\u001B[39m \u001B[38;5;129;01min\u001B[39;00m \u001B[38;5;28mself\u001B[39m\u001B[38;5;241m.\u001B[39mcreated_by \u001B[38;5;28;01mif\u001B[39;00m \u001B[38;5;28mself\u001B[39m\u001B[38;5;241m.\u001B[39mcreated_by \u001B[38;5;129;01mis\u001B[39;00m \u001B[38;5;129;01mnot\u001B[39;00m \u001B[38;5;28;01mNone\u001B[39;00m\n\u001B[1;32m    236\u001B[0m     \u001B[38;5;28;01melse\u001B[39;00m \u001B[38;5;28;01mFalse\u001B[39;00m\n\u001B[1;32m    237\u001B[0m )\n\u001B[1;32m    238\u001B[0m \u001B[38;5;28mself\u001B[39m\u001B[38;5;241m.\u001B[39m_read_partitions()\n\u001B[0;32m--> 239\u001B[0m \u001B[38;5;28;43mself\u001B[39;49m\u001B[38;5;241;43m.\u001B[39;49m\u001B[43m_dtypes\u001B[49m\u001B[43m(\u001B[49m\u001B[43m)\u001B[49m\n",
      "File \u001B[0;32m~/code/ccsl-rs/plotter/venv/lib/python3.10/site-packages/fastparquet/api.py:927\u001B[0m, in \u001B[0;36mParquetFile._dtypes\u001B[0;34m(self, categories)\u001B[0m\n\u001B[1;32m    925\u001B[0m     num_nulls \u001B[38;5;241m=\u001B[39m \u001B[38;5;28;01mTrue\u001B[39;00m\n\u001B[1;32m    926\u001B[0m     \u001B[38;5;28;01mbreak\u001B[39;00m\n\u001B[0;32m--> 927\u001B[0m \u001B[38;5;28;01mif\u001B[39;00m \u001B[43mst\u001B[49m\u001B[43m[\u001B[49m\u001B[38;5;241;43m3\u001B[39;49m\u001B[43m]\u001B[49m:\n\u001B[1;32m    928\u001B[0m     num_nulls \u001B[38;5;241m=\u001B[39m \u001B[38;5;28;01mTrue\u001B[39;00m\n\u001B[1;32m    929\u001B[0m     \u001B[38;5;28;01mbreak\u001B[39;00m\n",
      "\u001B[0;31mKeyError\u001B[0m: 3"
     ]
    }
   ],
   "source": [
    "dir = \"./data/circle/\"\n",
    "real = dd.read_parquet(dir+\"main.parquet\", columns=[\"spec\",\"variant\",\"real.tests\", \"real.downs\", \"size\", \"clocks\"])\n",
    "squished = dd.read_parquet(dir+\"squished.parquet\", columns=[\"spec\",\"variant\",\"approx.tests\", \"approx.downs\", \"limit.tests\", \"limit.downs\"])\n",
    "opti = dd.read_parquet(dir+\"opti/init_weights.min_front.parquet\", index=[\"spec\"],columns=[\"variant\",\"comb\", \"real.tests\", \"real.downs\"])\n",
    "squished = squished.groupby([\"spec\", \"variant\"]).max()\n",
    "\n",
    "real_max = real.groupby([\"spec\", \"variant\"]).max()"
   ]
  },
  {
   "cell_type": "code",
   "execution_count": null,
   "metadata": {
    "pycharm": {
     "name": "#%%\n"
    }
   },
   "outputs": [],
   "source": [
    "comparison_squished = real_max.join(squished, on=[\"spec\", \"variant\"]).compute()"
   ]
  },
  {
   "cell_type": "code",
   "execution_count": null,
   "outputs": [],
   "source": [
    "comparison_squished[\"limit.diff\"] = ((comparison_squished[\"limit.tests\"]-comparison_squished[\"real.tests\"])/comparison_squished[\"real.tests\"])*100"
   ],
   "metadata": {
    "collapsed": false,
    "pycharm": {
     "name": "#%%\n"
    }
   }
  },
  {
   "cell_type": "code",
   "execution_count": null,
   "outputs": [],
   "source": [
    "comparison_squished[\"approx.diff\"] = (comparison_squished[\"approx.tests\"]/comparison_squished[\"real.tests\"]-1)*100"
   ],
   "metadata": {
    "collapsed": false,
    "pycharm": {
     "name": "#%%\n"
    }
   }
  },
  {
   "cell_type": "markdown",
   "metadata": {
    "pycharm": {
     "name": "#%% md\n"
    }
   },
   "source": [
    "### Difference percentage limit vs real max"
   ]
  },
  {
   "cell_type": "code",
   "execution_count": null,
   "metadata": {
    "pycharm": {
     "name": "#%%\n"
    }
   },
   "outputs": [],
   "source": [
    "approximation_comp = comparison_squished[[\"limit.diff\", \"approx.diff\", \"size\"]].groupby([\"size\"]).agg([\"max\", \"min\", \"mean\", \"std\"])"
   ]
  },
  {
   "cell_type": "code",
   "execution_count": null,
   "outputs": [],
   "source": [
    "len(opti.groupby(\"spec\").count().index)"
   ],
   "metadata": {
    "collapsed": false,
    "pycharm": {
     "name": "#%%\n"
    }
   }
  },
  {
   "cell_type": "code",
   "execution_count": null,
   "outputs": [],
   "source": [
    "approximation_comp.plot(figsize=(12,8))"
   ],
   "metadata": {
    "collapsed": false,
    "pycharm": {
     "name": "#%%\n"
    }
   }
  },
  {
   "cell_type": "code",
   "execution_count": null,
   "outputs": [],
   "source": [
    "ma = approximation_comp[(\"limit.diff\", \"mean\")]\n",
    "mstd = approximation_comp[(\"limit.diff\", \"std\")]\n",
    "plt.figure(figsize=(14,8))\n",
    "plt.plot(approximation_comp.index, ma, \"k-s\", label=\"Mean\", markersize=10,)\n",
    "plt.plot(approximation_comp.index, approximation_comp[(\"limit.diff\", \"min\")], \"r-^\", label=\"Min\", markersize=10,)\n",
    "plt.plot(approximation_comp.index, approximation_comp[(\"limit.diff\", \"max\")], \"r:o\", label=\"Max\", markersize=10,)\n",
    "#plt.fill_between(mstd.index, ma - 2 * mstd, ma + 2 * mstd, color=\"b\", alpha=0.2, label=\"Std\")\n",
    "plt.xlabel(\"Size\")\n",
    "plt.ylabel(\"Error (%)\")\n",
    "font = {'family' : 'normal',\n",
    "        'size'   : 32}\n",
    "\n",
    "plt.rc('font', **font)\n",
    "plt.legend()\n",
    "plt.savefig(\"limit_diff_approx.pdf\")"
   ],
   "metadata": {
    "collapsed": false,
    "pycharm": {
     "name": "#%%\n"
    }
   }
  },
  {
   "cell_type": "code",
   "execution_count": null,
   "outputs": [],
   "source": [
    "ma = approximation_comp[(\"approx.diff\", \"mean\")]\n",
    "mstd = approximation_comp[(\"approx.diff\", \"std\")]\n",
    "plt.figure(figsize=(12,8))\n",
    "plt.plot(approximation_comp.index, ma, \"k-s\", label=\"Mean\", markersize=10,)\n",
    "plt.plot(approximation_comp.index, approximation_comp[(\"approx.diff\", \"min\")], \"r-^\", label=\"Min\", markersize=10,)\n",
    "plt.plot(approximation_comp.index, approximation_comp[(\"approx.diff\", \"max\")], \"r:o\", label=\"Max\", markersize=10,)\n",
    "#plt.fill_between(mstd.index, ma - 2 * mstd, ma + 2 * mstd, color=\"b\", alpha=0.2, label=\"Std\")\n",
    "plt.xlabel(\"Size\")\n",
    "plt.ylabel(\"Error (%)\")\n",
    "font = {'family' : 'normal',\n",
    "        'size'   : 32}\n",
    "\n",
    "plt.rc('font', **font)\n",
    "plt.legend()\n",
    "plt.savefig(\"approx_diff_approx.pdf\")"
   ],
   "metadata": {
    "collapsed": false,
    "pycharm": {
     "name": "#%%\n"
    }
   }
  },
  {
   "cell_type": "markdown",
   "metadata": {
    "pycharm": {
     "name": "#%% md\n"
    }
   },
   "source": [
    "### Specifications that fails to be approximated correctly"
   ]
  },
  {
   "cell_type": "code",
   "execution_count": null,
   "metadata": {
    "pycharm": {
     "name": "#%%\n"
    }
   },
   "outputs": [],
   "source": [
    "comparison_squished[comparison_squished[\"approx.tests\"] < comparison_squished[\"real.tests\"]]"
   ]
  },
  {
   "cell_type": "markdown",
   "metadata": {
    "pycharm": {
     "name": "#%% md\n"
    }
   },
   "source": [
    "### Raw limit vs real max percentage"
   ]
  },
  {
   "cell_type": "code",
   "execution_count": null,
   "metadata": {
    "pycharm": {
     "name": "#%%\n"
    }
   },
   "outputs": [],
   "source": [
    "(comparison_squished[\"limit.downs\"]/comparison_squished[\"real.downs\"]).plot(figsize=(12,8))"
   ]
  },
  {
   "cell_type": "code",
   "execution_count": null,
   "metadata": {
    "pycharm": {
     "name": "#%%\n"
    }
   },
   "outputs": [],
   "source": [
    "opti_max = opti.groupby(\"spec\").max()\n",
    "real_statistics = real_max.groupby(\"spec\").aggregate([\"min\", \"max\", \"mean\"])\n",
    "compare = real_statistics.join(opti_max)\n",
    "comparison_opti = compare.compute()"
   ]
  },
  {
   "cell_type": "markdown",
   "metadata": {
    "pycharm": {
     "name": "#%% md\n"
    }
   },
   "source": [
    "### Specification complexity range evolution (natural order)"
   ]
  },
  {
   "cell_type": "code",
   "execution_count": null,
   "metadata": {
    "pycharm": {
     "name": "#%%\n"
    }
   },
   "outputs": [],
   "source": [
    "comparison_opti[[\"real.tests\", (\"real.tests\", \"min\"), (\"real.tests\", \"mean\"), (\"real.tests\", \"max\")]].plot(figsize=(12, 8))"
   ]
  },
  {
   "cell_type": "markdown",
   "metadata": {
    "pycharm": {
     "name": "#%% md\n"
    }
   },
   "source": [
    "### Specification complexity range evolution (size)"
   ]
  },
  {
   "cell_type": "code",
   "execution_count": null,
   "metadata": {
    "pycharm": {
     "name": "#%%\n"
    }
   },
   "outputs": [],
   "source": [
    "comparison_opti2 = comparison_opti.sort_values((\"clocks\", \"max\"))\n",
    "comparison_opti2[\"diff\"] = comparison_opti2[(\"real.tests\", \"max\")]/comparison_opti2[(\"real.tests\", \"min\")]\n",
    "comparison_opti2[\"size\"] = comparison_opti2[(\"size\",\"max\")]\n",
    "comparison_opti2[\"clocks\"] = comparison_opti2[(\"clocks\",\"max\")]\n",
    "comparison_opti2.sort_values(\"size\").plot.scatter(x=\"size\", y=\"diff\",figsize=(12, 8))"
   ]
  },
  {
   "cell_type": "code",
   "execution_count": null,
   "outputs": [],
   "source": [
    "comparison_opti2[[\"size\", \"diff\"]].groupby([\"size\"]).aggregate([\"min\", \"mean\", \"max\"]).plot(figsize=(12, 8))"
   ],
   "metadata": {
    "collapsed": false,
    "pycharm": {
     "name": "#%%\n"
    }
   }
  },
  {
   "cell_type": "code",
   "execution_count": null,
   "metadata": {
    "pycharm": {
     "name": "#%%\n"
    }
   },
   "outputs": [],
   "source": [
    "comparison_opti2.sort_values(\"clocks\").plot.scatter(x=\"clocks\", y=\"diff\",figsize=(12, 8))"
   ]
  },
  {
   "cell_type": "markdown",
   "metadata": {
    "pycharm": {
     "name": "#%% md\n"
    }
   },
   "source": [
    "### All failed to optimize specifications"
   ]
  },
  {
   "cell_type": "code",
   "execution_count": null,
   "metadata": {
    "pycharm": {
     "name": "#%%\n"
    }
   },
   "outputs": [],
   "source": [
    "comparison_opti[comparison_opti[\"real.tests\"] > comparison_opti[(\"real.tests\", \"mean\")]]\n"
   ]
  },
  {
   "cell_type": "markdown",
   "metadata": {
    "pycharm": {
     "name": "#%% md\n"
    }
   },
   "source": [
    "### Percentage of badly optimized specifications"
   ]
  },
  {
   "cell_type": "code",
   "execution_count": null,
   "metadata": {
    "pycharm": {
     "name": "#%%\n"
    }
   },
   "outputs": [],
   "source": [
    "len(comparison_opti[comparison_opti[\"real.tests\"] > comparison_opti[(\"real.tests\", \"mean\")]])/len(comparison_opti)"
   ]
  },
  {
   "cell_type": "markdown",
   "metadata": {
    "pycharm": {
     "name": "#%% md\n"
    }
   },
   "source": [
    "### Scatter plot of permutations' real test values for each specification"
   ]
  },
  {
   "cell_type": "code",
   "execution_count": null,
   "metadata": {
    "pycharm": {
     "name": "#%%\n"
    }
   },
   "outputs": [],
   "source": [
    "frame = real_max.compute()\n",
    "frame.reset_index(inplace=True)\n",
    "frame.plot.scatter(x=\"spec\", y=\"real.tests\", figsize=(12, 8))"
   ]
  },
  {
   "cell_type": "markdown",
   "metadata": {
    "pycharm": {
     "name": "#%% md\n"
    }
   },
   "source": [
    "### Relative scatter plot"
   ]
  },
  {
   "cell_type": "code",
   "execution_count": null,
   "metadata": {
    "pycharm": {
     "name": "#%%\n"
    }
   },
   "outputs": [],
   "source": [
    "relative_dist = real_max.compute().reset_index(level=\"variant\").join(real_statistics.compute(), on=\"spec\")\n",
    "relative_dist"
   ]
  },
  {
   "cell_type": "code",
   "execution_count": null,
   "metadata": {
    "pycharm": {
     "name": "#%%\n"
    }
   },
   "outputs": [],
   "source": [
    "def scale_reals(row):\n",
    "    new_rows = dict()\n",
    "    test_min = row[(\"real.tests\", \"min\")]\n",
    "    test_max = row[(\"real.tests\", \"max\")]\n",
    "    if test_max == test_min:\n",
    "        new_rows[\"rel_tests\"] = 0\n",
    "    else:\n",
    "        new_rows[\"rel_tests\"] = (row[\"real.tests\"] - test_min) / (test_max - test_min)\n",
    "    down_min = row[(\"real.downs\", \"min\")]\n",
    "    down_max = row[(\"real.downs\", \"max\")]\n",
    "    if down_min == down_max:\n",
    "        new_rows[\"rel_downs\"] = 0\n",
    "    else:\n",
    "        new_rows[\"rel_downs\"] = (row[\"real.downs\"] - down_min) / (down_max - down_min)\n",
    "    new_rows[\"size\"] = row[\"size\"]\n",
    "    new_rows[\"clocks\"] = row[\"clocks\"]\n",
    "    return new_rows\n",
    "relative_dist = relative_dist.apply(scale_reals, axis=1, result_type='expand')\n",
    "relative_dist"
   ]
  },
  {
   "cell_type": "code",
   "execution_count": null,
   "metadata": {
    "pycharm": {
     "name": "#%%\n"
    }
   },
   "outputs": [],
   "source": [
    "relative_dist4 = relative_dist[relative_dist[\"size\"] == 4]"
   ]
  },
  {
   "cell_type": "code",
   "execution_count": null,
   "metadata": {
    "pycharm": {
     "name": "#%%\n"
    }
   },
   "outputs": [],
   "source": [
    "relative_dist4.plot.scatter(x=\"rel_tests\", y=\"rel_downs\", alpha=0.01, figsize=(12, 8))\n"
   ]
  },
  {
   "cell_type": "code",
   "execution_count": null,
   "metadata": {
    "pycharm": {
     "name": "#%%\n"
    }
   },
   "outputs": [],
   "source": [
    "relative_dist.plot.scatter(x=\"rel_tests\", y=\"rel_downs\", alpha=0.005, figsize=(12, 8))\n"
   ]
  },
  {
   "cell_type": "code",
   "execution_count": null,
   "metadata": {
    "pycharm": {
     "name": "#%%\n"
    }
   },
   "outputs": [],
   "source": [
    "num_points = relative_dist.groupby(\"spec\").aggregate(len).sort_values(\"rel_tests\")"
   ]
  },
  {
   "cell_type": "code",
   "execution_count": null,
   "metadata": {
    "pycharm": {
     "name": "#%%\n"
    }
   },
   "outputs": [],
   "source": [
    "relative_dist.loc[num_points.index[2]].plot.scatter(x=\"rel_tests\", y=\"rel_downs\", figsize=(12, 8))\n"
   ]
  },
  {
   "cell_type": "code",
   "execution_count": null,
   "metadata": {
    "pycharm": {
     "name": "#%%\n"
    }
   },
   "outputs": [],
   "source": [
    "import os\n",
    "\n",
    "all_methods_comp = real_statistics\n",
    "methods = []\n",
    "for file in os.listdir(dir+\"/opti\"):\n",
    "     filename = os.fsdecode(file)\n",
    "     if filename.endswith(\".parquet\"):\n",
    "         table = dd.read_parquet(dir+\"opti/\"+filename, index=[\"spec\"],columns=[\"real.tests\"])\n",
    "         table = table.groupby(\"spec\").max()\n",
    "         method = filename.replace(\".parquet\", \"\")\n",
    "         table = table.rename(columns={\"real.tests\": method})\n",
    "         methods.append(method)\n",
    "         all_methods_comp = all_methods_comp.join(table)\n",
    "     else:\n",
    "         continue\n",
    "all_methods_comp = all_methods_comp.compute()\n",
    "all_methods_comp"
   ]
  },
  {
   "cell_type": "code",
   "execution_count": null,
   "metadata": {
    "pycharm": {
     "name": "#%%\n"
    }
   },
   "outputs": [],
   "source": [
    "def diffs(row):\n",
    "    new_row = dict()\n",
    "    mean = row[(\"real.tests\", \"mean\")]\n",
    "    for i,c in enumerate(methods, start=1):\n",
    "        new_row[c] = int(row[c] < mean or row[(\"real.tests\", \"min\")] == row[(\"real.tests\", \"max\")])\n",
    "    return new_row\n",
    "diffs_comp = all_methods_comp.copy()\n",
    "diffs_comp = diffs_comp.apply(diffs, axis=1, result_type='expand')\n",
    "diffs_comp"
   ]
  },
  {
   "cell_type": "markdown",
   "metadata": {
    "pycharm": {
     "name": "#%% md\n"
    }
   },
   "source": [
    "### Percentage of good optimized specifications by method"
   ]
  },
  {
   "cell_type": "code",
   "execution_count": null,
   "metadata": {
    "pycharm": {
     "name": "#%%\n"
    },
    "scrolled": true
   },
   "outputs": [],
   "source": [
    "diffs_comp.apply(sum, axis=0).sort_values(ascending=False)/len(diffs_comp)"
   ]
  },
  {
   "cell_type": "markdown",
   "metadata": {
    "pycharm": {
     "name": "#%% md\n"
    }
   },
   "source": [
    "### Visualisation of optimization coverage"
   ]
  },
  {
   "cell_type": "code",
   "execution_count": null,
   "metadata": {
    "pycharm": {
     "name": "#%%\n"
    }
   },
   "outputs": [],
   "source": [
    "def scale_methods(row):\n",
    "    new_row = dict()\n",
    "    for i,c in enumerate(methods, start=1):\n",
    "        if \"random\" in c:\n",
    "            continue\n",
    "        new_row[c] = i*row[c]\n",
    "    return new_row\n",
    "without_rand = diffs_comp.apply(scale_methods, axis=1, result_type='expand')\n",
    "without_rand.iloc[:100].plot(figsize=(12, 8))"
   ]
  },
  {
   "cell_type": "markdown",
   "metadata": {
    "pycharm": {
     "name": "#%% md\n"
    }
   },
   "source": [
    "### Cumulative coverage"
   ]
  },
  {
   "cell_type": "code",
   "execution_count": null,
   "metadata": {
    "pycharm": {
     "name": "#%%\n"
    }
   },
   "outputs": [],
   "source": [
    "cumulative_comp = diffs_comp.apply(sum, axis=1)\n",
    "cumulative_comp.plot(figsize=(12, 8))"
   ]
  },
  {
   "cell_type": "markdown",
   "metadata": {
    "pycharm": {
     "name": "#%% md\n"
    }
   },
   "source": [
    "### Uncovered specifications"
   ]
  },
  {
   "cell_type": "code",
   "execution_count": null,
   "metadata": {
    "pycharm": {
     "name": "#%%\n"
    }
   },
   "outputs": [],
   "source": [
    "cumulative_comp[cumulative_comp == 0]"
   ]
  },
  {
   "cell_type": "code",
   "execution_count": null,
   "metadata": {
    "pycharm": {
     "name": "#%%\n"
    }
   },
   "outputs": [],
   "source": [
    "starting = real_max.compute().reset_index(level=\"variant\")\n",
    "starting = starting[starting[\"variant\"] == 0]\n",
    "gain = starting.join(all_methods_comp)\n",
    "gain = gain[(gain[(\"real.tests\", \"max\")]/gain[(\"real.tests\", \"min\")])>1.05]\n",
    "gain"
   ]
  },
  {
   "cell_type": "markdown",
   "metadata": {
    "pycharm": {
     "name": "#%% md\n"
    }
   },
   "source": [
    "### Gain in percentage relative to input specification"
   ]
  },
  {
   "cell_type": "code",
   "execution_count": null,
   "metadata": {
    "pycharm": {
     "name": "#%%\n"
    }
   },
   "outputs": [],
   "source": [
    "def gains_minus_start(row):\n",
    "    new_row = dict()\n",
    "    real = float(row[\"real.tests\"])\n",
    "\n",
    "    diff = (row[(\"real.tests\", \"max\")] - row[(\"real.tests\", \"min\")])\n",
    "    for c in methods:\n",
    "        new_row[c] = (real - float(row[c])) / diff * 100\n",
    "    return new_row\n",
    "gain_from_start = gain.apply(gains_minus_start, axis=1, result_type='expand')\n",
    "gain_from_start.plot.hist(bins=96, alpha=1,figsize=(12, 8))"
   ]
  },
  {
   "cell_type": "markdown",
   "metadata": {
    "pycharm": {
     "name": "#%% md\n"
    }
   },
   "source": [
    "### Gain in percentage relative to input specification (specific method)"
   ]
  },
  {
   "cell_type": "code",
   "execution_count": null,
   "metadata": {
    "pycharm": {
     "name": "#%%\n"
    }
   },
   "outputs": [],
   "source": [
    "gain_from_start[\"init_weights.dijkstra\"].plot.hist(bins=96, alpha=1,figsize=(12, 8))"
   ]
  },
  {
   "cell_type": "markdown",
   "metadata": {
    "pycharm": {
     "name": "#%% md\n"
    }
   },
   "source": [
    "### What are the 0 specs?"
   ]
  },
  {
   "cell_type": "code",
   "execution_count": null,
   "metadata": {
    "pycharm": {
     "name": "#%%\n"
    }
   },
   "outputs": [],
   "source": [
    "strange_0_specs = gain_from_start[[\"init_weights.min_front\", ]][gain_from_start[\"init_weights.min_front\"] == 0]\n",
    "strange_0_specs = strange_0_specs.join(real_statistics.compute()).join(starting)\n",
    "strange_0_specs"
   ]
  },
  {
   "cell_type": "code",
   "execution_count": null,
   "metadata": {
    "pycharm": {
     "name": "#%%\n"
    }
   },
   "outputs": [],
   "source": [
    "if len(strange_0_specs) != 0:\n",
    "    relative_dist.loc[strange_0_specs.index[-1]].plot.scatter(x=\"rel_tests\", y=\"rel_downs\", alpha=0.1,figsize=(12, 8))"
   ]
  },
  {
   "cell_type": "markdown",
   "metadata": {
    "pycharm": {
     "name": "#%% md\n"
    }
   },
   "source": [
    "### Gain in percentage relative to mean"
   ]
  },
  {
   "cell_type": "code",
   "execution_count": null,
   "metadata": {
    "pycharm": {
     "name": "#%%\n"
    }
   },
   "outputs": [],
   "source": [
    "def gains_from_mean(row):\n",
    "    new_row = dict()\n",
    "    mean = float(row[(\"real.tests\", \"mean\")])\n",
    "\n",
    "    diff = (row[(\"real.tests\", \"max\")] - row[(\"real.tests\", \"min\")])\n",
    "    for c in methods:\n",
    "        new_row[c] = (mean - float(row[c])) / diff * 100\n",
    "    return new_row\n",
    "gain_from_mean = all_methods_comp.apply(gains_from_mean, axis=1, result_type='expand')\n",
    "gain_from_mean.plot.hist(bins=96, alpha=0.1,figsize=(12, 8))"
   ]
  },
  {
   "cell_type": "markdown",
   "metadata": {
    "pycharm": {
     "name": "#%% md\n"
    }
   },
   "source": [
    "### Gain in percentage relative to mean"
   ]
  },
  {
   "cell_type": "code",
   "execution_count": null,
   "metadata": {
    "pycharm": {
     "name": "#%%\n"
    }
   },
   "outputs": [],
   "source": [
    "gain_from_mean[\"random\"].plot.hist(bins=96, alpha=1,figsize=(12, 8))"
   ]
  },
  {
   "cell_type": "code",
   "execution_count": null,
   "metadata": {
    "pycharm": {
     "name": "#%%\n"
    }
   },
   "outputs": [],
   "source": [
    "gain_from_mean[\"init_weights.min_front\"].plot.hist(bins=96, alpha=1,figsize=(12, 8))\n",
    "plt.xlabel(\"Improvement from mean (%)\")\n",
    "plt.ylabel(\"Frequency\")\n",
    "plt.savefig(\"optimization.pdf\")"
   ]
  },
  {
   "cell_type": "markdown",
   "metadata": {
    "pycharm": {
     "name": "#%% md\n"
    }
   },
   "source": [
    "### Gain characteristics per method"
   ]
  },
  {
   "cell_type": "code",
   "execution_count": null,
   "metadata": {
    "pycharm": {
     "name": "#%%\n"
    }
   },
   "outputs": [],
   "source": [
    "gain_from_mean.aggregate([\"mean\", \"std\"], axis=0).transpose().sort_values(\"mean\", ascending=False)"
   ]
  },
  {
   "cell_type": "markdown",
   "metadata": {
    "pycharm": {
     "name": "#%% md\n"
    }
   },
   "source": [
    "### Complexity grow speed (by clocks)"
   ]
  },
  {
   "cell_type": "code",
   "execution_count": null,
   "metadata": {
    "pycharm": {
     "name": "#%%\n"
    }
   },
   "outputs": [],
   "source": [
    "real_max[[\"clocks\", \"real.tests\"]].groupby(\"clocks\").aggregate([\"min\", \"max\", \"mean\"]).compute().plot(figsize=(12, 8))"
   ]
  },
  {
   "cell_type": "markdown",
   "metadata": {
    "pycharm": {
     "name": "#%% md\n"
    }
   },
   "source": [
    "### Complexity grow speed (by size)"
   ]
  },
  {
   "cell_type": "code",
   "execution_count": null,
   "metadata": {
    "pycharm": {
     "name": "#%%\n"
    }
   },
   "outputs": [],
   "source": [
    "real_max[[\"size\", \"real.tests\"]].groupby(\"size\").aggregate([\"min\", \"max\", \"mean\"]).compute().plot(figsize=(12, 8))"
   ]
  },
  {
   "cell_type": "code",
   "execution_count": null,
   "metadata": {
    "pycharm": {
     "name": "#%%\n"
    }
   },
   "outputs": [],
   "source": [
    "comparison_size_clock = comparison_squished.copy()\n",
    "comparison_size_clock[\"approx.tests\"] = comparison_size_clock[\"approx.tests\"].astype(np.int64)\n",
    "comparison_size_clock[\"diff_appr_real\"] = ((comparison_size_clock[\"approx.tests\"]-comparison_size_clock[\"real.tests\"])/comparison_size_clock[\"real.tests\"])\n",
    "comparison_size_clock[\"diff_limit_real\"] = ((comparison_size_clock[\"limit.tests\"]-comparison_size_clock[\"real.tests\"])/comparison_size_clock[\"real.tests\"])\n",
    "comparison_size_clock"
   ]
  },
  {
   "cell_type": "code",
   "execution_count": null,
   "metadata": {
    "pycharm": {
     "name": "#%%\n"
    }
   },
   "outputs": [],
   "source": [
    "comparison_size_clock.groupby(\"size\").aggregate(\"count\")\n",
    "comparison_size_clock.groupby(\"clocks\").aggregate(\"count\")\n"
   ]
  },
  {
   "cell_type": "markdown",
   "metadata": {
    "pycharm": {
     "name": "#%% md\n"
    }
   },
   "source": [
    "### Growth speed of difference of real and approximate complexities (by size)"
   ]
  },
  {
   "cell_type": "code",
   "execution_count": null,
   "metadata": {
    "pycharm": {
     "name": "#%%\n"
    }
   },
   "outputs": [],
   "source": [
    "comparison_size_clock[[\"size\", \"diff_appr_real\"]].groupby(\"size\").agg([\"max\", \"min\", \"mean\"]).plot(figsize=(12,8))"
   ]
  },
  {
   "cell_type": "code",
   "execution_count": null,
   "metadata": {
    "pycharm": {
     "name": "#%%\n"
    }
   },
   "outputs": [],
   "source": [
    "comparison_size_clock[[\"size\", \"diff_limit_real\"]].groupby(\"size\").agg([\"max\", \"min\", \"mean\"]).plot(figsize=(12,8))\n"
   ]
  },
  {
   "cell_type": "markdown",
   "metadata": {
    "pycharm": {
     "name": "#%% md\n"
    }
   },
   "source": [
    "### Growth speed of difference of real and approximate complexities (by clock)"
   ]
  },
  {
   "cell_type": "code",
   "execution_count": null,
   "metadata": {
    "pycharm": {
     "name": "#%%\n"
    }
   },
   "outputs": [],
   "source": [
    "comparison_size_clock[[\"clocks\", \"diff_appr_real\"]].groupby(\"clocks\").agg([\"max\", \"min\", \"mean\"]).plot(figsize=(12,8))"
   ]
  },
  {
   "cell_type": "code",
   "execution_count": null,
   "metadata": {
    "pycharm": {
     "name": "#%%\n"
    }
   },
   "outputs": [],
   "source": [
    "comparison_size_clock[[\"clocks\", \"diff_limit_real\"]].groupby(\"clocks\").agg([\"max\", \"min\", \"mean\"]).plot(figsize=(12,8))"
   ]
  },
  {
   "cell_type": "markdown",
   "metadata": {
    "pycharm": {
     "name": "#%% md\n"
    }
   },
   "source": [
    "### Check if approximations allow specification comparison"
   ]
  },
  {
   "cell_type": "code",
   "execution_count": null,
   "metadata": {
    "pycharm": {
     "name": "#%%\n"
    }
   },
   "outputs": [],
   "source": [
    "check_order = comparison_squished[[\"real.tests\", \"approx.tests\"]].reset_index(level=\"variant\").drop(\"variant\", axis=1).groupby(\"spec\").aggregate(list)\n",
    "check_order"
   ]
  },
  {
   "cell_type": "code",
   "execution_count": null,
   "metadata": {
    "pycharm": {
     "name": "#%%\n"
    }
   },
   "outputs": [],
   "source": [
    "def order_holds(orig: List[int], aprox: List[int]) -> float:\n",
    "    candidates = list(zip(orig, aprox))\n",
    "    hold_times = 0\n",
    "    count = 0\n",
    "    for (lorig, laprox), (rorig, raprox) in combinations(candidates, 2):\n",
    "        ok = (lorig < rorig and laprox < raprox) or \\\n",
    "          (lorig > rorig and laprox > raprox) or \\\n",
    "          (lorig == rorig and laprox == raprox)\n",
    "        hold_times += int(ok)\n",
    "        count +=1\n",
    "    return hold_times/count\n",
    "\n",
    "check_order[\"holds\"] = check_order.apply(lambda row: order_holds(row[\"real.tests\"], row[\"approx.tests\"]), axis=1)\n",
    "check_order.holds.mean()"
   ]
  },
  {
   "cell_type": "code",
   "execution_count": null,
   "metadata": {
    "pycharm": {
     "name": "#%%\n"
    }
   },
   "outputs": [],
   "source": []
  },
  {
   "cell_type": "code",
   "execution_count": null,
   "outputs": [],
   "source": [],
   "metadata": {
    "collapsed": false,
    "pycharm": {
     "name": "#%%\n"
    }
   }
  },
  {
   "cell_type": "code",
   "execution_count": null,
   "outputs": [],
   "source": [],
   "metadata": {
    "collapsed": false,
    "pycharm": {
     "name": "#%%\n"
    }
   }
  }
 ],
 "metadata": {
  "kernelspec": {
   "display_name": "Python 3",
   "language": "python",
   "name": "python3"
  },
  "language_info": {
   "codemirror_mode": {
    "name": "ipython",
    "version": 3
   },
   "file_extension": ".py",
   "mimetype": "text/x-python",
   "name": "python",
   "nbconvert_exporter": "python",
   "pygments_lexer": "ipython3",
   "version": "3.8.10"
  }
 },
 "nbformat": 4,
 "nbformat_minor": 1
}